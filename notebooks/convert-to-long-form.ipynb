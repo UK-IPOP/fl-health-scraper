{
 "cells": [
  {
   "cell_type": "markdown",
   "id": "centered-columbus",
   "metadata": {},
   "source": [
    "# Convert to long form"
   ]
  },
  {
   "cell_type": "code",
   "execution_count": 1,
   "id": "satisfied-ecuador",
   "metadata": {},
   "outputs": [],
   "source": [
    "# sets to top level dir\n",
    "import os\n",
    "os.chdir('..')"
   ]
  },
  {
   "cell_type": "code",
   "execution_count": 2,
   "id": "mysterious-embassy",
   "metadata": {},
   "outputs": [],
   "source": [
    "# imports\n",
    "import pandas as pd\n",
    "from tqdm import tqdm"
   ]
  },
  {
   "cell_type": "code",
   "execution_count": 3,
   "id": "aggregate-attachment",
   "metadata": {},
   "outputs": [
    {
     "name": "stdout",
     "output_type": "stream",
     "text": [
      "(14070, 10)\n"
     ]
    },
    {
     "data": {
      "text/html": [
       "<div>\n",
       "<style scoped>\n",
       "    .dataframe tbody tr th:only-of-type {\n",
       "        vertical-align: middle;\n",
       "    }\n",
       "\n",
       "    .dataframe tbody tr th {\n",
       "        vertical-align: top;\n",
       "    }\n",
       "\n",
       "    .dataframe thead th {\n",
       "        text-align: right;\n",
       "    }\n",
       "</style>\n",
       "<table border=\"1\" class=\"dataframe\">\n",
       "  <thead>\n",
       "    <tr style=\"text-align: right;\">\n",
       "      <th></th>\n",
       "      <th>Year</th>\n",
       "      <th>County</th>\n",
       "      <th>Indicator</th>\n",
       "      <th>Measure</th>\n",
       "      <th>Jan-Mar</th>\n",
       "      <th>Apr-June</th>\n",
       "      <th>July-Sep</th>\n",
       "      <th>Oct-Dec</th>\n",
       "      <th>Year-to-Date</th>\n",
       "      <th>Case Definition</th>\n",
       "    </tr>\n",
       "  </thead>\n",
       "  <tbody>\n",
       "    <tr>\n",
       "      <th>3825</th>\n",
       "      <td>2016</td>\n",
       "      <td>Martin</td>\n",
       "      <td>All drug non-fatal overdose hospitalizations</td>\n",
       "      <td>Count</td>\n",
       "      <td>40</td>\n",
       "      <td>39</td>\n",
       "      <td>55</td>\n",
       "      <td>32</td>\n",
       "      <td>NaN</td>\n",
       "      <td>Non-fatal hospitalizations either of the follo...</td>\n",
       "    </tr>\n",
       "    <tr>\n",
       "      <th>6863</th>\n",
       "      <td>2017</td>\n",
       "      <td>Union</td>\n",
       "      <td>Drug Overdose Annual Age-Adjusted Death Rate</td>\n",
       "      <td>Per 100,000 persons</td>\n",
       "      <td>NaN</td>\n",
       "      <td>NaN</td>\n",
       "      <td>NaN</td>\n",
       "      <td>NaN</td>\n",
       "      <td>7.5</td>\n",
       "      <td>Drugs identified as the cause of death by Flor...</td>\n",
       "    </tr>\n",
       "  </tbody>\n",
       "</table>\n",
       "</div>"
      ],
      "text/plain": [
       "      Year  County                                     Indicator  \\\n",
       "3825  2016  Martin  All drug non-fatal overdose hospitalizations   \n",
       "6863  2017   Union  Drug Overdose Annual Age-Adjusted Death Rate   \n",
       "\n",
       "                  Measure Jan-Mar Apr-June July-Sep Oct-Dec Year-to-Date  \\\n",
       "3825                Count      40       39       55      32          NaN   \n",
       "6863  Per 100,000 persons     NaN      NaN      NaN     NaN          7.5   \n",
       "\n",
       "                                        Case Definition  \n",
       "3825  Non-fatal hospitalizations either of the follo...  \n",
       "6863  Drugs identified as the cause of death by Flor...  "
      ]
     },
     "execution_count": 3,
     "metadata": {},
     "output_type": "execute_result"
    }
   ],
   "source": [
    "# read in file\n",
    "df = pd.read_csv('data/composite.csv')\n",
    "print(df.shape)\n",
    "df.sample(2)"
   ]
  },
  {
   "cell_type": "markdown",
   "id": "retained-bubble",
   "metadata": {},
   "source": [
    "## Begin Analysis"
   ]
  },
  {
   "cell_type": "markdown",
   "id": "understood-vocabulary",
   "metadata": {},
   "source": [
    "We want the data in long format.\n",
    "\n",
    "Columns: Year, County, Quarter, Indicator, Value\n",
    "\n",
    "We can drop the 'Year-to-Date' column (and case definition?)"
   ]
  },
  {
   "cell_type": "code",
   "execution_count": 4,
   "id": "transparent-shoot",
   "metadata": {},
   "outputs": [],
   "source": [
    "# remove col\n",
    "df.drop('Year-to-Date', axis=1, inplace=True)"
   ]
  },
  {
   "cell_type": "code",
   "execution_count": 5,
   "id": "aerial-syntax",
   "metadata": {
    "scrolled": true
   },
   "outputs": [
    {
     "data": {
      "text/html": [
       "<div>\n",
       "<style scoped>\n",
       "    .dataframe tbody tr th:only-of-type {\n",
       "        vertical-align: middle;\n",
       "    }\n",
       "\n",
       "    .dataframe tbody tr th {\n",
       "        vertical-align: top;\n",
       "    }\n",
       "\n",
       "    .dataframe thead th {\n",
       "        text-align: right;\n",
       "    }\n",
       "</style>\n",
       "<table border=\"1\" class=\"dataframe\">\n",
       "  <thead>\n",
       "    <tr style=\"text-align: right;\">\n",
       "      <th></th>\n",
       "      <th>Year</th>\n",
       "      <th>County</th>\n",
       "      <th>Indicator</th>\n",
       "      <th>Measure</th>\n",
       "      <th>Q1</th>\n",
       "      <th>Q2</th>\n",
       "      <th>Q3</th>\n",
       "      <th>Q4</th>\n",
       "      <th>Definition</th>\n",
       "    </tr>\n",
       "  </thead>\n",
       "  <tbody>\n",
       "    <tr>\n",
       "      <th>11754</th>\n",
       "      <td>2020</td>\n",
       "      <td>Alachua</td>\n",
       "      <td>Drug Confirmed Motor Vehicle Traffic Crashes</td>\n",
       "      <td>Count</td>\n",
       "      <td>NaN</td>\n",
       "      <td>NaN</td>\n",
       "      <td>NaN</td>\n",
       "      <td>NaN</td>\n",
       "      <td>A crash involving a Driver and/or Non-Motorist...</td>\n",
       "    </tr>\n",
       "    <tr>\n",
       "      <th>3142</th>\n",
       "      <td>2016</td>\n",
       "      <td>Gulf</td>\n",
       "      <td>Alcohol Confirmed Motor Vehicle Traffic Crash ...</td>\n",
       "      <td>Count</td>\n",
       "      <td>NaN</td>\n",
       "      <td>NaN</td>\n",
       "      <td>NaN</td>\n",
       "      <td>NaN</td>\n",
       "      <td>The death of a person as a direct result of a ...</td>\n",
       "    </tr>\n",
       "  </tbody>\n",
       "</table>\n",
       "</div>"
      ],
      "text/plain": [
       "       Year   County                                          Indicator  \\\n",
       "11754  2020  Alachua       Drug Confirmed Motor Vehicle Traffic Crashes   \n",
       "3142   2016     Gulf  Alcohol Confirmed Motor Vehicle Traffic Crash ...   \n",
       "\n",
       "      Measure   Q1   Q2   Q3   Q4  \\\n",
       "11754   Count  NaN  NaN  NaN  NaN   \n",
       "3142    Count  NaN  NaN  NaN  NaN   \n",
       "\n",
       "                                              Definition  \n",
       "11754  A crash involving a Driver and/or Non-Motorist...  \n",
       "3142   The death of a person as a direct result of a ...  "
      ]
     },
     "execution_count": 5,
     "metadata": {},
     "output_type": "execute_result"
    }
   ],
   "source": [
    "# rename months into quarters\n",
    "df.columns = ['Year', 'County', 'Indicator', 'Measure', 'Q1', 'Q2', 'Q3', 'Q4', 'Definition']\n",
    "df.sample(2)"
   ]
  },
  {
   "cell_type": "markdown",
   "id": "mounted-holmes",
   "metadata": {},
   "source": [
    "Now we need to transpose the Quarters into one column with values attached.\n",
    "\n",
    "We will accomplish this using `pd.wide_to_long` and by specifing `stubnames='Q'` to target the Quarters."
   ]
  },
  {
   "cell_type": "code",
   "execution_count": 6,
   "id": "planned-passenger",
   "metadata": {
    "scrolled": true
   },
   "outputs": [
    {
     "data": {
      "text/html": [
       "<div>\n",
       "<style scoped>\n",
       "    .dataframe tbody tr th:only-of-type {\n",
       "        vertical-align: middle;\n",
       "    }\n",
       "\n",
       "    .dataframe tbody tr th {\n",
       "        vertical-align: top;\n",
       "    }\n",
       "\n",
       "    .dataframe thead th {\n",
       "        text-align: right;\n",
       "    }\n",
       "</style>\n",
       "<table border=\"1\" class=\"dataframe\">\n",
       "  <thead>\n",
       "    <tr style=\"text-align: right;\">\n",
       "      <th></th>\n",
       "      <th>Quarter</th>\n",
       "      <th>Indicator</th>\n",
       "      <th>Case Definition</th>\n",
       "      <th>County</th>\n",
       "      <th>Measure</th>\n",
       "      <th>Year</th>\n",
       "      <th>Value</th>\n",
       "    </tr>\n",
       "  </thead>\n",
       "  <tbody>\n",
       "    <tr>\n",
       "      <th>9766</th>\n",
       "      <td>Q1</td>\n",
       "      <td>Columbia</td>\n",
       "      <td>Drug Overdose deaths</td>\n",
       "      <td>Count</td>\n",
       "      <td>2019</td>\n",
       "      <td>Drugs identified as the cause of death by Flor...</td>\n",
       "      <td>2</td>\n",
       "    </tr>\n",
       "    <tr>\n",
       "      <th>12997</th>\n",
       "      <td>Q1</td>\n",
       "      <td>Leon</td>\n",
       "      <td>Heroin-involved non-fatal overdose hospitaliza...</td>\n",
       "      <td>Count</td>\n",
       "      <td>2020</td>\n",
       "      <td>Non-fatal hospitalizations with either of the ...</td>\n",
       "      <td>&lt;5</td>\n",
       "    </tr>\n",
       "    <tr>\n",
       "      <th>26684</th>\n",
       "      <td>Q2</td>\n",
       "      <td>Hendry</td>\n",
       "      <td>Neonatal Abstinence Syndrome Birth Defect</td>\n",
       "      <td>Count</td>\n",
       "      <td>2020</td>\n",
       "      <td>Infants less than 28 days old who were exposed...</td>\n",
       "      <td>NaN</td>\n",
       "    </tr>\n",
       "  </tbody>\n",
       "</table>\n",
       "</div>"
      ],
      "text/plain": [
       "      Quarter Indicator                                    Case Definition  \\\n",
       "9766       Q1  Columbia                               Drug Overdose deaths   \n",
       "12997      Q1      Leon  Heroin-involved non-fatal overdose hospitaliza...   \n",
       "26684      Q2    Hendry          Neonatal Abstinence Syndrome Birth Defect   \n",
       "\n",
       "      County  Measure                                               Year Value  \n",
       "9766   Count     2019  Drugs identified as the cause of death by Flor...     2  \n",
       "12997  Count     2020  Non-fatal hospitalizations with either of the ...    <5  \n",
       "26684  Count     2020  Infants less than 28 days old who were exposed...   NaN  "
      ]
     },
     "execution_count": 6,
     "metadata": {},
     "output_type": "execute_result"
    }
   ],
   "source": [
    "# we have to create an id field to transpose on\n",
    "df['id'] = df.index\n",
    "new_df = pd.wide_to_long(df, stubnames='Q', i='id', j='quarter')  # MAIN WORK\n",
    "new_df.reset_index(inplace=True)  # flatten df\n",
    "new_df.drop('id', axis=1, inplace=True)  # drop id column, no longer needed\n",
    "new_df.columns = ['Quarter', 'Indicator', 'Case Definition', 'County', 'Measure', 'Year', 'Value']  # rename cols\n",
    "new_df['Quarter'] = new_df.Quarter.apply(lambda x: f\"Q{x}\")  # add 'Q' into quarter column values\n",
    "new_df.sample(3)"
   ]
  },
  {
   "cell_type": "code",
   "execution_count": 7,
   "id": "caroline-authorization",
   "metadata": {},
   "outputs": [],
   "source": [
    "# export\n",
    "new_df.to_csv('data/long_form.csv', index=False)"
   ]
  }
 ],
 "metadata": {
  "kernelspec": {
   "display_name": "Python 3",
   "language": "python",
   "name": "python3"
  },
  "language_info": {
   "codemirror_mode": {
    "name": "ipython",
    "version": 3
   },
   "file_extension": ".py",
   "mimetype": "text/x-python",
   "name": "python",
   "nbconvert_exporter": "python",
   "pygments_lexer": "ipython3",
   "version": "3.9.1"
  }
 },
 "nbformat": 4,
 "nbformat_minor": 5
}
